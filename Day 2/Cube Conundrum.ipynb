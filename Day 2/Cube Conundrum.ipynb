{
 "cells": [
  {
   "metadata": {
    "ExecuteTime": {
     "end_time": "2024-06-26T23:53:45.640205Z",
     "start_time": "2024-06-26T23:53:45.630202Z"
    }
   },
   "cell_type": "code",
   "source": [
    "import re\n",
    "class CubeConundrum:\n",
    "    def __init__(self, filename):\n",
    "        self.filename = filename\n",
    "        self.x : list = []\n",
    "        self._createX()\n",
    "        \n",
    "    def _createX(self):\n",
    "        with open(self.filename, 'r') as f:\n",
    "            while True:\n",
    "                line = f.readline()\n",
    "                if not line:\n",
    "                    break\n",
    "                self.x.append(line[:-1])        \n",
    "\n",
    "obj = CubeConundrum(\"input_part2.txt\")\n"
   ],
   "id": "2d08e804acd4d564",
   "outputs": [],
   "execution_count": 158
  },
  {
   "metadata": {
    "ExecuteTime": {
     "end_time": "2024-06-26T23:53:46.127972Z",
     "start_time": "2024-06-26T23:53:46.120973Z"
    }
   },
   "cell_type": "code",
   "source": [
    "filterSpace = lambda x: x[1:] if x[0] == \" \" else x\n",
    "colours = ['red', 'blue', 'green']"
   ],
   "id": "8e4dafab5c49fa6f",
   "outputs": [],
   "execution_count": 159
  },
  {
   "metadata": {
    "ExecuteTime": {
     "end_time": "2024-06-26T23:53:46.394974Z",
     "start_time": "2024-06-26T23:53:46.374978Z"
    }
   },
   "cell_type": "code",
   "source": [
    "temp: list = []\n",
    "keyV: dict = {}\n",
    "for i, string in enumerate(obj.x):\n",
    "    temp.append(int(re.findall('Game\\s\\d+', string)[0][4:]))\n",
    "    sets = string.split(\":\")[1][1:].split(\";\")\n",
    "    addtomain: list = []\n",
    "    for set in sets:\n",
    "        tempDict: dict = {}\n",
    "        strList = set.split(\",\")\n",
    "        \n",
    "        for val in strList:\n",
    "            val = filterSpace(val)\n",
    "                \n",
    "            for colour in colours: \n",
    "                for indices in re.finditer(colour, val):\n",
    "                    tempDict[colour] = int(val[0: indices.span()[0]])\n",
    "        addtomain.append(tempDict)\n",
    "    \n",
    "    keyV[temp[i]] = addtomain     \n",
    " "
   ],
   "id": "c1ff083ca6cc021f",
   "outputs": [],
   "execution_count": 160
  },
  {
   "metadata": {
    "ExecuteTime": {
     "end_time": "2024-06-26T23:53:48.162705Z",
     "start_time": "2024-06-26T23:53:48.153705Z"
    }
   },
   "cell_type": "code",
   "source": [
    "sumId: int = 0\n",
    "cubes: list = []\n",
    "for key in keyV.keys():\n",
    "    maxPossible: dict = {'red' :0, 'blue' :0, 'green' :0}\n",
    "    flag: bool = True\n",
    "    for set in keyV[key]:\n",
    "        for colour in set.keys():\n",
    "            maxPossible[colour] = max(maxPossible[colour], set[colour])\n",
    "            if colour == 'red' and set[colour]>12:\n",
    "                flag = False\n",
    "            elif colour == 'green' and set[colour]>13:\n",
    "                flag = False\n",
    "            elif colour == 'blue' and set[colour]>14:\n",
    "                flag = False\n",
    "                \n",
    "    temp: int = 1\n",
    "    for colour in maxPossible.keys():\n",
    "        temp *= maxPossible[colour] \n",
    "    cubes.append(temp)\n",
    "        \n",
    "    if flag:\n",
    "        sumId += key \n",
    "            \n",
    "print(\"Part 1 answer is: \", sumId)\n",
    "print(\"Part 2 answer is: \", sum(cubes))"
   ],
   "id": "c28b6dd7ee83c5d9",
   "outputs": [
    {
     "name": "stdout",
     "output_type": "stream",
     "text": [
      "Part 1 answer is:  3099\n",
      "Part 2 answer is:  72970\n"
     ]
    }
   ],
   "execution_count": 161
  },
  {
   "metadata": {},
   "cell_type": "code",
   "outputs": [],
   "execution_count": null,
   "source": "",
   "id": "6df8a6042a5e4054"
  }
 ],
 "metadata": {
  "kernelspec": {
   "display_name": "Python 3",
   "language": "python",
   "name": "python3"
  },
  "language_info": {
   "codemirror_mode": {
    "name": "ipython",
    "version": 2
   },
   "file_extension": ".py",
   "mimetype": "text/x-python",
   "name": "python",
   "nbconvert_exporter": "python",
   "pygments_lexer": "ipython2",
   "version": "2.7.6"
  }
 },
 "nbformat": 4,
 "nbformat_minor": 5
}
